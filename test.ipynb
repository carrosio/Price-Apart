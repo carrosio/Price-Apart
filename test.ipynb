{
 "cells": [
  {
   "cell_type": "code",
   "execution_count": 23,
   "metadata": {},
   "outputs": [],
   "source": [
    "import pandas as pd\n",
    "dolar = 320\n",
    "data = pd.read_json('data/scraped_apartments.json')\n",
    "\n",
    "def to_pesos(row):\n",
    "    if row['price_currency'] == 'U$S':\n",
    "        value = row['price'] * dolar\n",
    "    else:\n",
    "        value = row['price']\n",
    "    return value\n",
    "\n",
    "data['Prices_Pesos'] = data.apply(to_pesos, axis=1)\n",
    "data['Price_Plus_Expenses'] = data.Prices_Pesos + data.expenses\n",
    "data['Count'] = 1\n",
    "data['m2'] = data.Price_Plus_Expenses / data.total_covered\n",
    "data['Price_Plus_Expenses_USD'] = data.Price_Plus_Expenses / dolar\n",
    "data['Price_Plus_Expenses_USD_m2'] = data.Price_Plus_Expenses_USD / data.total_covered\n",
    "MEAN = data.groupby('zone').median().sort_values(by='Price_Plus_Expenses_USD_m2', ascending=False)\n",
    "MEAN.Price_Plus_Expenses_USD_m2.to_csv('example.csv')"
   ]
  }
 ],
 "metadata": {
  "kernelspec": {
   "display_name": "Python 3.10.6 ('scraping')",
   "language": "python",
   "name": "python3"
  },
  "language_info": {
   "codemirror_mode": {
    "name": "ipython",
    "version": 3
   },
   "file_extension": ".py",
   "mimetype": "text/x-python",
   "name": "python",
   "nbconvert_exporter": "python",
   "pygments_lexer": "ipython3",
   "version": "3.10.6"
  },
  "orig_nbformat": 4,
  "vscode": {
   "interpreter": {
    "hash": "a49a2fa2ac5522a5e1391f75664b43e1a43339e568f275ab0a6e7a257da7323b"
   }
  }
 },
 "nbformat": 4,
 "nbformat_minor": 2
}
