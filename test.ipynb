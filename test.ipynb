{
 "cells": [
  {
   "cell_type": "code",
   "execution_count": 45,
   "metadata": {},
   "outputs": [
    {
     "data": {
      "text/plain": [
       "zone\n",
       "Belgrano Chico        5810.344828\n",
       "Belgrano Barrancas    3988.439655\n",
       "Puerto Madero         3500.000000\n",
       "Botánico              2218.965517\n",
       "Palermo Chico         2119.448276\n",
       "Las Cañitas           1640.103448\n",
       "Recoleta              1619.310345\n",
       "Palermo Nuevo         1312.068966\n",
       "Palermo Hollywood     1084.482759\n",
       "Palermo                987.448276\n",
       "Barrio Norte           874.137931\n",
       "Retiro                 818.965517\n",
       "Palermo Soho           798.275862\n",
       "Núñez                  791.891379\n",
       "Belgrano C             791.034483\n",
       "Belgrano               781.896552\n",
       "Coghlan                620.689655\n",
       "Saavedra               568.965517\n",
       "Colegiales             543.103448\n",
       "Belgrano R             539.696552\n",
       "Parque Chas            448.275862\n",
       "Caballito              431.034483\n",
       "Villa Crespo           427.931034\n",
       "San Telmo              422.413793\n",
       "Monte Castro           413.793103\n",
       "San Nicolás            396.551724\n",
       "Flores                 367.241379\n",
       "Boedo                  366.896552\n",
       "Versalles              353.448276\n",
       "Chacarita              348.275862\n",
       "Barracas               346.551724\n",
       "Villa Urquiza          340.517241\n",
       "Villa del Parque       339.655172\n",
       "Almagro                336.724138\n",
       "Villa Devoto           334.137931\n",
       "Velez Sarsfield        332.758621\n",
       "Parque Chacabuco       329.310345\n",
       "Floresta               313.793103\n",
       "San Cristóbal          307.758621\n",
       "Paternal               299.137931\n",
       "Villa Ortúzar          296.524138\n",
       "Mataderos              293.103448\n",
       "Constitución           292.931034\n",
       "Agronomía              291.034483\n",
       "Monserrat              286.206897\n",
       "Villa Real             284.827586\n",
       "Balvanera              284.482759\n",
       "Villa Luro             279.310345\n",
       "Capital Federal        272.413793\n",
       "Congreso               266.896552\n",
       "Parque Avellaneda      265.517241\n",
       "Liniers                265.517241\n",
       "Villa Gral. Mitre      265.517241\n",
       "Villa Pueyrredón       263.793103\n",
       "Santa Rita             261.000000\n",
       "Villa Lugano           241.379310\n",
       "Once                   224.137931\n",
       "La Boca                203.793103\n",
       "Nueva Pompeya                 NaN\n",
       "Parque Patricios              NaN\n",
       "Name: Price_Plus_Expenses_USD, dtype: float64"
      ]
     },
     "execution_count": 45,
     "metadata": {},
     "output_type": "execute_result"
    }
   ],
   "source": [
    "import pandas as pd\n",
    "dolar = 290\n",
    "data = pd.read_json('data/scraped_apartments.json')\n",
    "\n",
    "def to_pesos(row):\n",
    "    if row['price_currency'] == 'U$S':\n",
    "        value = row['price'] * dolar\n",
    "    else:\n",
    "        value = row['price']\n",
    "    return value\n",
    "\n",
    "data['Prices_Pesos'] = data.apply(to_pesos, axis=1)\n",
    "data['Price_Plus_Expenses'] = data.Prices_Pesos + data.expenses\n",
    "data['Count'] = 1\n",
    "data['m2'] = data.Price_Plus_Expenses / data.total_covered\n",
    "data['Price_Plus_Expenses_USD'] = data.Price_Plus_Expenses / dolar\n",
    "MEAN = data.groupby('zone').median().sort_values(by='Price_Plus_Expenses', ascending=False)\n",
    "MEAN.Price_Plus_Expenses_USD"
   ]
  }
 ],
 "metadata": {
  "kernelspec": {
   "display_name": "Python 3.9.15 ('base')",
   "language": "python",
   "name": "python3"
  },
  "language_info": {
   "codemirror_mode": {
    "name": "ipython",
    "version": 3
   },
   "file_extension": ".py",
   "mimetype": "text/x-python",
   "name": "python",
   "nbconvert_exporter": "python",
   "pygments_lexer": "ipython3",
   "version": "3.9.15"
  },
  "orig_nbformat": 4,
  "vscode": {
   "interpreter": {
    "hash": "560ce78039f1394efa93a000e8f3c45bb0b3303302a477f497fb76def28efda1"
   }
  }
 },
 "nbformat": 4,
 "nbformat_minor": 2
}
