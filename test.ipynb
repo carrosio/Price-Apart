{
 "cells": [
  {
   "cell_type": "code",
   "execution_count": 77,
   "metadata": {},
   "outputs": [
    {
     "data": {
      "text/plain": [
       "zone\n",
       "Belgrano Chico        5064.062500\n",
       "Belgrano Barrancas    3844.671875\n",
       "Puerto Madero         3500.000000\n",
       "Palermo Chico         2108.250000\n",
       "Botánico              1514.571875\n",
       "                         ...     \n",
       "Once                   225.000000\n",
       "Parque Patricios       208.750000\n",
       "Villa Lugano           208.593750\n",
       "La Boca                184.687500\n",
       "Nueva Pompeya                 NaN\n",
       "Name: Price_Plus_Expenses_USD, Length: 61, dtype: float64"
      ]
     },
     "execution_count": 77,
     "metadata": {},
     "output_type": "execute_result"
    }
   ],
   "source": [
    "import pandas as pd\n",
    "dolar = 320\n",
    "data = pd.read_json('data/scraped_apartments.json')\n",
    "\n",
    "def to_pesos(row):\n",
    "    if row['price_currency'] == 'U$S':\n",
    "        value = row['price'] * dolar\n",
    "    else:\n",
    "        value = row['price']\n",
    "    return value\n",
    "\n",
    "data['Prices_Pesos'] = data.apply(to_pesos, axis=1)\n",
    "data['Price_Plus_Expenses'] = data.Prices_Pesos + data.expenses\n",
    "data['Count'] = 1\n",
    "data['m2'] = data.Price_Plus_Expenses / data.total_covered\n",
    "data['Price_Plus_Expenses_USD'] = data.Price_Plus_Expenses / dolar\n",
    "data['Price_Plus_Expenses_USD_m2'] = data.Price_Plus_Expenses_USD / data.total_covered\n",
    "MEAN = data.groupby('zone').median().sort_values(by='Price_Plus_Expenses_USD', ascending=False)\n",
    "MEAN.Price_Plus_Expenses_USD"
   ]
  },
  {
   "cell_type": "code",
   "execution_count": null,
   "metadata": {},
   "outputs": [],
   "source": []
  }
 ],
 "metadata": {
  "kernelspec": {
   "display_name": "Python 3.9.15 ('base')",
   "language": "python",
   "name": "python3"
  },
  "language_info": {
   "codemirror_mode": {
    "name": "ipython",
    "version": 3
   },
   "file_extension": ".py",
   "mimetype": "text/x-python",
   "name": "python",
   "nbconvert_exporter": "python",
   "pygments_lexer": "ipython3",
   "version": "3.9.15"
  },
  "orig_nbformat": 4,
  "vscode": {
   "interpreter": {
    "hash": "560ce78039f1394efa93a000e8f3c45bb0b3303302a477f497fb76def28efda1"
   }
  }
 },
 "nbformat": 4,
 "nbformat_minor": 2
}
